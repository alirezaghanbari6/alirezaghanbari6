{
 "cells": [
  {
   "cell_type": "code",
   "execution_count": 1,
   "id": "292aeaef",
   "metadata": {},
   "outputs": [],
   "source": [
    "import numpy as np\n",
    "import pandas as pd\n",
    "import matplotlib.pyplot as plt\n",
    "%matplotlib inline\n",
    "# grid search persistence models for airline passengers\n",
    "from math import sqrt\n",
    "from numpy import mean\n",
    "from sklearn.metrics import mean_squared_error"
   ]
  },
  {
   "cell_type": "code",
   "execution_count": 2,
   "id": "3779482b",
   "metadata": {},
   "outputs": [
    {
     "name": "stdout",
     "output_type": "stream",
     "text": [
      "(144, 1)\n"
     ]
    }
   ],
   "source": [
    "series = pd.read_csv('D:/dataset/monthly-airline-passengers.csv',header=0,sep=',',index_col=0)\n",
    "print(series.shape)"
   ]
  },
  {
   "cell_type": "code",
   "execution_count": 3,
   "id": "a00c1ab7",
   "metadata": {
    "scrolled": true
   },
   "outputs": [
    {
     "data": {
      "image/png": "[encoded data removed]",
      "text/plain": [
       "<Figure size 432x288 with 1 Axes>"
      ]
     },
     "metadata": {
      "needs_background": "light"
     },
     "output_type": "display_data"
    }
   ],
   "source": [
    "\"\"\"Docstring:\n",
    "Line chart of monthly flights of international airlines\n",
    "\"\"\"\n",
    "plt.plot(series); "
   ]
  },
  {
   "cell_type": "markdown",
   "id": "96319343",
   "metadata": {},
   "source": [
    "train_test_split () The following function is divided into series considering raw observations and the number of observations to use in the test set as an argument."
   ]
  },
  {
   "cell_type": "code",
   "execution_count": 4,
   "id": "4032d4dd",
   "metadata": {},
   "outputs": [],
   "source": [
    "\"\"\"Docstring:\n",
    "plit a univariate dataset into train/test sets\n",
    "\"\"\"\n",
    "def train_test_split(data,n_test):\n",
    "    return data[:-n_test],data[-n_test:]"
   ]
  },
  {
   "cell_type": "markdown",
   "id": "3f32bce1",
   "metadata": {},
   "source": [
    "series_to_supervised () The following function implements this behavior, allowing you to specify the number of delay observations to use at the input and the number to use at the output for each instance. It also deletes rows that contain NaN values because they can not be used to train or test a model."
   ]
  },
  {
   "cell_type": "code",
   "execution_count": 5,
   "id": "16afffab",
   "metadata": {},
   "outputs": [],
   "source": [
    "# transform list into supervised learning format\n",
    "def series_to_supervised(data, n_in=1, n_out=1):\n",
    "\tdf = DataFrame(data)\n",
    "\tcols = list()\n",
    "\t# input sequence (t-n, ... t-1)\n",
    "\tfor i in range(n_in, 0, -1):\n",
    "\t\tcols.append(df.shift(i))\n",
    "\t# forecast sequence (t, t+1, ... t+n)\n",
    "\tfor i in range(0, n_out):\n",
    "\t\tcols.append(df.shift(-i))\n",
    "\t# put it all together\n",
    "\tagg = concat(cols, axis=1)\n",
    "\t# drop rows with NaN values\n",
    "\tagg.dropna(inplace=True)\n",
    "\treturn agg.values"
   ]
  },
  {
   "cell_type": "markdown",
   "id": "91ad9e7b",
   "metadata": {},
   "source": [
    "Validate walking forward\n",
    "=\n",
    "We define a model_fit () function to perform this operation, which can be populated for a specific type of neural network that we may be interested in later. The function takes the training data set and model configuration and returns the appropriate model ready for prediction."
   ]
  },
  {
   "cell_type": "code",
   "execution_count": 6,
   "id": "908da659",
   "metadata": {},
   "outputs": [],
   "source": [
    "#fit a model\n",
    "def model_fit(train, config):\n",
    "    return None"
   ]
  },
  {
   "cell_type": "markdown",
   "id": "554308bc",
   "metadata": {},
   "source": [
    "Each time step of the experimental data set is counted. A prediction is made using the fitting model.\n",
    "\n",
    "Again, we define a general function called model_predict () that takes the appropriate model, model history, and configuration, and performs a one-step prediction."
   ]
  },
  {
   "cell_type": "code",
   "execution_count": 7,
   "id": "e3108436",
   "metadata": {},
   "outputs": [],
   "source": [
    "#for cast with a pre_fit model\n",
    "def model_predict(model,history,config):\n",
    "    return 0.0"
   ]
  },
  {
   "cell_type": "markdown",
   "id": "401b79db",
   "metadata": {},
   "source": [
    "RMSE is calculated as the square root of the difference between the forecast and the actual values. measure_rmse () Implement the following using mean_squared_error () scikit Learn the function to calculate the first mean square error, or MSE, before calculating the square root."
   ]
  },
  {
   "cell_type": "code",
   "execution_count": 8,
   "id": "2da939de",
   "metadata": {},
   "outputs": [],
   "source": [
    "#root mean squared error rms\n",
    "def measure_rms(actual,predicted):\n",
    "    return sqrt (mean_squared_error(actual,predicted))"
   ]
  },
  {
   "cell_type": "markdown",
   "id": "efd4ed82",
   "metadata": {},
   "source": [
    "The complete walk_forward_validation () function that links all of these is listed below.\n",
    "\n",
    "The data set takes the number of observations to be used as the experimental set and the model configuration, and returns the RMSE for the performance of the model in the experimental set."
   ]
  },
  {
   "cell_type": "code",
   "execution_count": 9,
   "id": "5959b71a",
   "metadata": {},
   "outputs": [],
   "source": [
    "# walk-forward validation for univariate data\n",
    "def walk_forward_validation(data, n_test, cfg):\n",
    "\tpredictions = list()\n",
    "\t# split dataset\n",
    "\ttrain, test = train_test_split(data, n_test)\n",
    "\t# fit model\n",
    "\tmodel = model_fit(train, cfg)\n",
    "\t# seed history with training dataset\n",
    "\thistory = [x for x in train]\n",
    "\t# step over each time-step in the test set\n",
    "\tfor i in range(len(test)):\n",
    "\t\t# fit model and make forecast for history\n",
    "\t\tyhat = model_predict(model, history, cfg)\n",
    "\t\t# store forecast in list of predictions\n",
    "\t\tpredictions.append(yhat)\n",
    "\t\t# add actual observation to history for the next loop\n",
    "\t\thistory.append(test[i])\n",
    "\t# estimate prediction error\n",
    "\terror = measure_rmse(test, predictions)\n",
    "\tprint(' > %.3f' % error)\n",
    "\treturn error     "
   ]
  },
  {
   "cell_type": "markdown",
   "id": "fdb0486c",
   "metadata": {},
   "source": [
    "This is not always possible for large neural networks and may only make sense for small networks that can fit in minutes or hours.\n",
    "\n",
    "repeat_evaluate () implements the following function and allows the number of iterations to be specified as an optional parameter that returns a default of 10 and an average RMSE score of all iterations."
   ]
  },
  {
   "cell_type": "code",
   "execution_count": 10,
   "id": "a11b6361",
   "metadata": {},
   "outputs": [],
   "source": [
    "# score a model, return None on failure\n",
    "def reapt_evalute(data, config, test, n_reapt =10):\n",
    "    #convert confog to a key\n",
    "    key = str(config)\n",
    "    #fit and evalute the model  n times\n",
    "    scores = [walk_forward_validation(data, n_test, config) for _ in range(n_repeats)]\n",
    "    #summarize score\n",
    "    result = mean(scores)\n",
    "    print('> Moodel[%s] %.3f'%(key,result))"
   ]
  },
  {
   "cell_type": "markdown",
   "id": "d3bbcc5d",
   "metadata": {},
   "source": [
    "Once the average score for each configuration is calculated, the list of configurations is sorted in ascending order so that the best scores are listed first.\n",
    "\n",
    "Full performance is listed below."
   ]
  },
  {
   "cell_type": "code",
   "execution_count": 11,
   "id": "c08182a6",
   "metadata": {},
   "outputs": [],
   "source": [
    "#grid search configs\n",
    "def grid_serch(data, cfg_list, n_test):\n",
    "    # evaluate configs\n",
    "    scores = [score_model(data_n_test, cfg)for  cfg in cfg_list]\n",
    "    # sort configs by error, asc\n",
    "    scores.sort(key=lambda tup:tup[1])\n",
    "    return scores\n",
    "    "
   ]
  },
  {
   "cell_type": "markdown",
   "id": "202b7cff",
   "metadata": {},
   "source": [
    "Worked sample\n",
    "=\n",
    "\n",
    "Now that we have defined the test inhibition elements, we can tie them all together and define a simple stability model.\n",
    "\n",
    "We do not need to fit a model, so the model_fit () function is implemented to simply return None"
   ]
  },
  {
   "cell_type": "code",
   "execution_count": 12,
   "id": "da0ea5fb",
   "metadata": {},
   "outputs": [],
   "source": [
    "#fit model\n",
    "def model_fit(train,config):\n",
    "    return None"
   ]
  },
  {
   "cell_type": "markdown",
   "id": "df67db40",
   "metadata": {},
   "source": [
    "Configure to define a list of index displacements in observations\n",
    "We will use the previous one compared to the predicted time that is used as the forecast. For example, 12 uses the observation 12 months earlier (-12) than the forecast time."
   ]
  },
  {
   "cell_type": "code",
   "execution_count": 13,
   "id": "af6f436b",
   "metadata": {},
   "outputs": [],
   "source": [
    "#define config\n",
    "cfg_list = [1, 6, 12, 24, 36]"
   ]
  },
  {
   "cell_type": "markdown",
   "id": "283ef5ea",
   "metadata": {},
   "source": [
    "The function can be run to use these settings to continue the value in relative negative.model_predict ()"
   ]
  },
  {
   "cell_type": "code",
   "execution_count": 14,
   "id": "a7d78cf3",
   "metadata": {},
   "outputs": [],
   "source": [
    "#for ecast with a pre-fit model \n",
    "def model_predict(model, history, offset):\n",
    "    history[-offset]"
   ]
  },
  {
   "cell_type": "code",
   "execution_count": 15,
   "id": "96aa917d",
   "metadata": {},
   "outputs": [
    {
     "name": "stdout",
     "output_type": "stream",
     "text": [
      "(144, 1)\n"
     ]
    },
    {
     "data": {
      "image/png": "[encoded data removed]",
      "text/plain": [
       "<Figure size 432x288 with 1 Axes>"
      ]
     },
     "metadata": {
      "needs_background": "light"
     },
     "output_type": "display_data"
    }
   ],
   "source": [
    "import numpy as np\n",
    "import pandas as pd\n",
    "import matplotlib.pyplot as plt\n",
    "%matplotlib inline\n",
    "# grid search persistence models for airline passengers\n",
    "from math import sqrt\n",
    "from numpy import mean\n",
    "from sklearn.metrics import mean_squared_error\n",
    "#=============================Data preparation=========================\n",
    "series = pd.read_csv('D:/dataset/monthly-airline-passengers.csv',header=0,sep=',',index_col=0)\n",
    "print(series.shape)\n",
    "\n",
    "\"\"\"Docstring:\n",
    "Line chart of monthly flights of international airlines\n",
    "\"\"\"\n",
    "plt.plot(series); \n",
    "\n",
    "#train_test_split () The following function is divided\n",
    "#into series considering raw observations and the number of\n",
    "#observations to use in the test set as an argument.\n",
    "##==============================================================\n",
    "\"\"\"Docstring:\n",
    "plit a univariate dataset into train/test sets\n",
    "\"\"\"\n",
    "def train_test_split(data,n_test):\n",
    "    return data[:-n_test],data[-n_test:]\n",
    "\n",
    "#series_to_supervised () The following function implements this\n",
    "#behavior, allowing you to specify the number of delay observat\n",
    "#ions to use at the input and the number to use at the output\n",
    "#for each instance. It also deletes rows that contain NaN\n",
    "#values because they can not be used to train or test a model.\n",
    "#============================================================\n",
    "# transform list into supervised learning format\n",
    "def series_to_supervised(data, n_in=1, n_out=1):\n",
    "\tdf = DataFrame(data)\n",
    "\tcols = list()\n",
    "\t# input sequence (t-n, ... t-1)\n",
    "\tfor i in range(n_in, 0, -1):\n",
    "\t\tcols.append(df.shift(i))\n",
    "\t# forecast sequence (t, t+1, ... t+n)\n",
    "\tfor i in range(0, n_out):\n",
    "\t\tcols.append(df.shift(-i))\n",
    "\t# put it all together\n",
    "\tagg = concat(cols, axis=1)\n",
    "\t# drop rows with NaN values\n",
    "\tagg.dropna(inplace=True)\n",
    "\treturn agg.values\n",
    "#===============================================================\n",
    "\n",
    "# fit a model\n",
    "def model_fit(train, config):\n",
    "\treturn None\n",
    "\n",
    "#We define a model_fit () function to perform this operation,\n",
    "#which can be populated for a specific type of neural network\n",
    "#that we may be interested in later. The function takes the\n",
    "#training data set and model configuration and returns the\n",
    "#appropriate model ready for prediction.\n",
    "#=================================================================\n",
    "#Each time step of the experimental data set is counted.\n",
    "#A prediction is made using the fitting model.\n",
    "\n",
    "#Again, we define a general function called model_predict ()\n",
    "#that takes the appropriate model, model history, and\n",
    "#configuration,\n",
    "#and performs a one-step prediction.\n",
    "#=================================================================\n",
    "#for cast with a pre_fit model\n",
    "def model_predict(model,history,config):\n",
    "    return 0.0\n",
    "\n",
    "\n",
    "#root mean squared error rms\n",
    "def measure_rms(actual,predicted):\n",
    "    return sqrt (mean_squared_error(actual,predicted))\n",
    "#=============================================================\n",
    "# walk-forward validation for univariate data\n",
    "def walk_forward_validation(data, n_test, cfg):\n",
    "\tpredictions = list()\n",
    "\t# split dataset\n",
    "\ttrain, test = train_test_split(data, n_test)\n",
    "\t# fit model\n",
    "\tmodel = model_fit(train, cfg)\n",
    "\t# seed history with training dataset\n",
    "\thistory = [x for x in train]\n",
    "\t# step over each time-step in the test set\n",
    "\tfor i in range(len(test)):\n",
    "\t\t# fit model and make forecast for history\n",
    "\t\tyhat = model_predict(model, history, cfg)\n",
    "\t\t# store forecast in list of predictions\n",
    "\t\tpredictions.append(yhat)\n",
    "\t\t# add actual observation to history for the next loop\n",
    "\t\thistory.append(test[i])\n",
    "\t# estimate prediction error\n",
    "\terror = measure_rmse(test, predictions)\n",
    "\tprint(' > %.3f' % error)\n",
    "\treturn error\n",
    "#================================================================\n",
    "# score a model, return None on failure\n",
    "def reapt_evalute(data, config, test, n_reapt =10):\n",
    "    #convert confog to a key\n",
    "    key = str(config)\n",
    "    #fit and evalute the model  n times\n",
    "    scores = [walk_forward_validation(data, n_test, config) for _ in range(n_repeats)]\n",
    "    #summarize score\n",
    "    result = mean(scores)\n",
    "    print('> Moodel[%s] %.3f'%(key,result))\n",
    "#======================================================================================\n",
    "#grid search configs\n",
    "def grid_serch(data, cfg_list, n_test):\n",
    "    # evaluate configs\n",
    "    scores = [score_model(data_n_test, cfg)for  cfg in cfg_list]\n",
    "    # sort configs by error, asc\n",
    "    scores.sort(key=lambda tup:tup[1])\n",
    "    return scores\n",
    "#================================================================================\n",
    "#fit model\n",
    "def model_fit(train,config):\n",
    "    return None\n",
    "#============================================================\n",
    "#define config\n",
    "cfg_list = [1, 6, 12, 24, 36]\n",
    "#===========================================================\n",
    "#for ecast with a pre-fit model \n",
    "def model_predict(model, history, offset):\n",
    "    history[-offset]"
   ]
  },
  {
   "cell_type": "code",
   "execution_count": 16,
   "id": "88dbf73b",
   "metadata": {},
   "outputs": [
    {
     "data": {
      "image/png": "[encoded data removed]",
      "text/plain": [
       "<Figure size 432x288 with 1 Axes>"
      ]
     },
     "metadata": {
      "needs_background": "light"
     },
     "output_type": "display_data"
    }
   ],
   "source": [
    "series.hist();"
   ]
  },
  {
   "cell_type": "code",
   "execution_count": 17,
   "id": "0c6fc8b9",
   "metadata": {},
   "outputs": [
    {
     "data": {
      "image/png": "[encoded data removed]",
      "text/plain": [
       "<Figure size 432x288 with 1 Axes>"
      ]
     },
     "metadata": {
      "needs_background": "light"
     },
     "output_type": "display_data"
    }
   ],
   "source": [
    "series.boxplot();"
   ]
  }
 ],
 "metadata": {
  "kernelspec": {
   "display_name": "Python 3 (ipykernel)",
   "language": "python",
   "name": "python3"
  },
  "language_info": {
   "codemirror_mode": {
    "name": "ipython",
    "version": 3
   },
   "file_extension": ".py",
   "mimetype": "text/x-python",
   "name": "python",
   "nbconvert_exporter": "python",
   "pygments_lexer": "ipython3",
   "version": "3.9.7"
  }
 },
 "nbformat": 4,
 "nbformat_minor": 5
}
