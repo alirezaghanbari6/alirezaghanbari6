{
 "cells": [
  {
   "cell_type": "markdown",
   "id": "24ab3f1f",
   "metadata": {},
   "source": [
    "ConvLSTM\n",
    "=\n",
    "نوعی از LSTM مربوط به CNN-LSTM ConvLSTM است که در آن خواندن کانولوشنی ورودی مستقیماً در هر واحد LSTM ساخته می شود.\n",
    "\n",
    "ConvLSTM برای خواندن داده های مکانی-زمانی دو بعدی توسعه داده شده است، اما می تواند برای استفاده با پیش بینی سری های زمانی تک متغیره سازگار شود.\n",
    "\n",
    "لایه انتظار ورودی را به عنوان دنباله ای از تصاویر دو بعدی دارد، بنابراین شکل داده های ورودی باید به صورت زیر باشد:"
   ]
  },
  {
   "cell_type": "code",
   "execution_count": 1,
   "id": "153c72f0",
   "metadata": {},
   "outputs": [
    {
     "name": "stdout",
     "output_type": "stream",
     "text": [
      "1/1 [==============================] - 0s 232ms/step\n",
      "[[100.75786]]\n"
     ]
    }
   ],
   "source": [
    "#import libaray\n",
    "from numpy import array\n",
    "from keras.models import Sequential\n",
    "from keras.layers import LSTM\n",
    "from keras.layers import Dense\n",
    "from keras.layers import Flatten\n",
    "from keras.layers import TimeDistributed\n",
    "from keras.layers.convolutional import Conv1D\n",
    "from keras.layers.convolutional import MaxPooling1D\n",
    "\n",
    "\n",
    "# split a univariate sequence into samples\n",
    "def split_sequence(sequence, n_steps):\n",
    "\tX, y = list(), list()\n",
    "\tfor i in range(len(sequence)):\n",
    "\t\t# find the end of this pattern\n",
    "\t\tend_ix = i + n_steps\n",
    "\t\t# check if we are beyond the sequence\n",
    "\t\tif end_ix > len(sequence)-1:\n",
    "\t\t\tbreak\n",
    "\t\t# gather input and output parts of the pattern\n",
    "\t\tseq_x, seq_y = sequence[i:end_ix], sequence[end_ix]\n",
    "\t\tX.append(seq_x)\n",
    "\t\ty.append(seq_y)\n",
    "\treturn array(X), array(y)\n",
    " \n",
    "# define input sequence\n",
    "raw_seq = [10, 20, 30, 40, 50, 60, 70, 80, 90]\n",
    "#choose a number of time steps\n",
    "n_steps = 4\n",
    "# split into samples\n",
    "X, y = split_sequence(raw_seq, n_steps)\n",
    "# reshape from [samples, timesteps] into [samples, subsequences, timesteps, features]\n",
    "n_features = 1\n",
    "n_seq = 2\n",
    "n_steps= 2\n",
    "X = X.reshape((X.shape[0], n_seq, n_steps, n_features))\n",
    "\n",
    "# define model\n",
    "model = Sequential()\n",
    "model.add(TimeDistributed(Conv1D(filters=128, kernel_size=1, activation='relu'), input_shape=(None, n_steps, n_features)))\n",
    "model.add(TimeDistributed(MaxPooling1D(pool_size=2)))\n",
    "model.add(TimeDistributed(Flatten()))\n",
    "model.add(LSTM(50, activation='relu'))\n",
    "model.add(Dense(1))\n",
    "model.compile(optimizer='adam', loss='mse')\n",
    "# fit model\n",
    "model.fit(X, y, epochs=500, verbose=0)\n",
    "# demonstrate prediction\n",
    "x_input = array([60, 70, 80, 90])\n",
    "x_input = x_input.reshape((1, n_seq, n_steps, n_features))\n",
    "yhat = model.predict(x_input, verbose=True)\n",
    "print(yhat)"
   ]
  },
  {
   "cell_type": "markdown",
   "id": "7f14df53",
   "metadata": {},
   "source": [
    "Aspects:\n",
    "=\n",
    "Your results may differ depending on the random nature of the algorithm or evaluation method or the difference in numerical accuracy. Run the example several times and compare the average result.\n",
    "\n",
    "Running the example predicts the next value in the sequence, which we expect to be 100"
   ]
  }
 ],
 "metadata": {
  "kernelspec": {
   "display_name": "Python 3 (ipykernel)",
   "language": "python",
   "name": "python3"
  },
  "language_info": {
   "codemirror_mode": {
    "name": "ipython",
    "version": 3
   },
   "file_extension": ".py",
   "mimetype": "text/x-python",
   "name": "python",
   "nbconvert_exporter": "python",
   "pygments_lexer": "ipython3",
   "version": "3.9.7"
  }
 },
 "nbformat": 4,
 "nbformat_minor": 5
}
