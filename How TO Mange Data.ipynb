{
 "cells": [
  {
   "cell_type": "code",
   "execution_count": 1,
   "id": "160bd2c8",
   "metadata": {},
   "outputs": [
    {
     "name": "stdout",
     "output_type": "stream",
     "text": [
      "[]\n"
     ]
    }
   ],
   "source": [
    "L =[]\n",
    "print(L)"
   ]
  },
  {
   "cell_type": "code",
   "execution_count": 2,
   "id": "f9285d5b",
   "metadata": {},
   "outputs": [
    {
     "name": "stdout",
     "output_type": "stream",
     "text": [
      "[31, 28, 31, 30, 31, 30, 31, 31, 30, 31, 30, 31]\n"
     ]
    }
   ],
   "source": [
    "days_in_month = [31,28,31,30,31,30,31,31,30,31,30,31]\n",
    "print (days_in_month)"
   ]
  },
  {
   "cell_type": "code",
   "execution_count": 3,
   "id": "03ccf772",
   "metadata": {
    "scrolled": true
   },
   "outputs": [],
   "source": [
    "def how_many_days(month):\n",
    "    return days_in_month[month - 1]"
   ]
  },
  {
   "cell_type": "code",
   "execution_count": 4,
   "id": "6eb5a3f7",
   "metadata": {},
   "outputs": [
    {
     "name": "stdout",
     "output_type": "stream",
     "text": [
      "31\n"
     ]
    }
   ],
   "source": [
    "print(how_many_days(1))"
   ]
  },
  {
   "cell_type": "code",
   "execution_count": 5,
   "id": "2569ae8f",
   "metadata": {},
   "outputs": [
    {
     "name": "stdout",
     "output_type": "stream",
     "text": [
      "30\n"
     ]
    }
   ],
   "source": [
    "print(how_many_days(9))"
   ]
  },
  {
   "cell_type": "code",
   "execution_count": 6,
   "id": "21e01414",
   "metadata": {
    "scrolled": true
   },
   "outputs": [
    {
     "name": "stdout",
     "output_type": "stream",
     "text": [
      "['apple', 3, 'orange', 27, ['pi', 3.14, ['alpha', 'beta']]]\n"
     ]
    }
   ],
   "source": [
    "mix_up = ['apple',3, 'orange',27, ['pi',3.14,['alpha','beta']]]\n",
    "print(mix_up)"
   ]
  },
  {
   "cell_type": "code",
   "execution_count": 7,
   "id": "22d4d022",
   "metadata": {},
   "outputs": [
    {
     "name": "stdout",
     "output_type": "stream",
     "text": [
      "5\n"
     ]
    }
   ],
   "source": [
    "print(len(mix_up))"
   ]
  },
  {
   "cell_type": "code",
   "execution_count": 8,
   "id": "4e0846bc",
   "metadata": {},
   "outputs": [
    {
     "name": "stdout",
     "output_type": "stream",
     "text": [
      "[['John', 1940], ['Paul', 1942], ['Gerge', 1943], ['Ringo', 1950]]\n"
     ]
    }
   ],
   "source": [
    "beatlest = [['John', 1940],\n",
    "            ['Paul', 1942],\n",
    "            ['Gerge',1943],\n",
    "            ['Ringo', 1950]]\n",
    "\n",
    "print(beatlest)"
   ]
  },
  {
   "cell_type": "code",
   "execution_count": 9,
   "id": "a3aad7ba",
   "metadata": {},
   "outputs": [
    {
     "name": "stdout",
     "output_type": "stream",
     "text": [
      "['Ringo', 1950]\n"
     ]
    }
   ],
   "source": [
    "print(beatlest[3])"
   ]
  },
  {
   "cell_type": "markdown",
   "id": "c07caeda",
   "metadata": {},
   "source": [
    "# list oprtion"
   ]
  },
  {
   "cell_type": "code",
   "execution_count": 10,
   "id": "f5377165",
   "metadata": {},
   "outputs": [
    {
     "data": {
      "text/plain": [
       "['__add__',\n",
       " '__class__',\n",
       " '__contains__',\n",
       " '__delattr__',\n",
       " '__delitem__',\n",
       " '__dir__',\n",
       " '__doc__',\n",
       " '__eq__',\n",
       " '__format__',\n",
       " '__ge__',\n",
       " '__getattribute__',\n",
       " '__getitem__',\n",
       " '__gt__',\n",
       " '__hash__',\n",
       " '__iadd__',\n",
       " '__imul__',\n",
       " '__init__',\n",
       " '__init_subclass__',\n",
       " '__iter__',\n",
       " '__le__',\n",
       " '__len__',\n",
       " '__lt__',\n",
       " '__mul__',\n",
       " '__ne__',\n",
       " '__new__',\n",
       " '__reduce__',\n",
       " '__reduce_ex__',\n",
       " '__repr__',\n",
       " '__reversed__',\n",
       " '__rmul__',\n",
       " '__setattr__',\n",
       " '__setitem__',\n",
       " '__sizeof__',\n",
       " '__str__',\n",
       " '__subclasshook__',\n",
       " 'append',\n",
       " 'clear',\n",
       " 'copy',\n",
       " 'count',\n",
       " 'extend',\n",
       " 'index',\n",
       " 'insert',\n",
       " 'pop',\n",
       " 'remove',\n",
       " 'reverse',\n",
       " 'sort']"
      ]
     },
     "execution_count": 10,
     "metadata": {},
     "output_type": "execute_result"
    }
   ],
   "source": [
    "L =[]\n",
    "dir(L)"
   ]
  },
  {
   "cell_type": "code",
   "execution_count": 11,
   "id": "5efb71b1",
   "metadata": {},
   "outputs": [
    {
     "name": "stdout",
     "output_type": "stream",
     "text": [
      "<class 'list'>\n"
     ]
    }
   ],
   "source": [
    "print(type(dir(L)))"
   ]
  },
  {
   "cell_type": "code",
   "execution_count": 12,
   "id": "9df9d74d",
   "metadata": {},
   "outputs": [
    {
     "name": "stdout",
     "output_type": "stream",
     "text": [
      "['append', 'clear', 'copy', 'count', 'extend', 'index', 'insert', 'pop', 'remove', 'reverse', 'sort']\n"
     ]
    }
   ],
   "source": [
    "print([method for method in dir(L) if not method.startswith('__')])"
   ]
  },
  {
   "cell_type": "code",
   "execution_count": 13,
   "id": "bf6ddd3f",
   "metadata": {},
   "outputs": [
    {
     "name": "stdout",
     "output_type": "stream",
     "text": [
      "Help on built-in function append:\n",
      "\n",
      "append(object, /) method of builtins.list instance\n",
      "    Append object to the end of the list.\n",
      "\n"
     ]
    }
   ],
   "source": [
    "help(L.append)"
   ]
  },
  {
   "cell_type": "code",
   "execution_count": 14,
   "id": "565790e8",
   "metadata": {},
   "outputs": [
    {
     "name": "stdout",
     "output_type": "stream",
     "text": [
      "['Sara', 'Dave', 'John']\n"
     ]
    }
   ],
   "source": [
    "List_of_names=['Sara','Dave','John']\n",
    "print(List_of_names)"
   ]
  },
  {
   "cell_type": "markdown",
   "id": "90325bbb",
   "metadata": {},
   "source": [
    "# COncted"
   ]
  },
  {
   "cell_type": "code",
   "execution_count": 15,
   "id": "6e7b8b30",
   "metadata": {},
   "outputs": [
    {
     "name": "stdout",
     "output_type": "stream",
     "text": [
      "[0, 1, 2, 3]\n"
     ]
    }
   ],
   "source": [
    "print([0, 1] + [2, 3])"
   ]
  },
  {
   "cell_type": "markdown",
   "id": "a194beb1",
   "metadata": {},
   "source": [
    "# A List lenght"
   ]
  },
  {
   "cell_type": "code",
   "execution_count": 16,
   "id": "884015c5",
   "metadata": {},
   "outputs": [
    {
     "name": "stdout",
     "output_type": "stream",
     "text": [
      "3\n"
     ]
    }
   ],
   "source": [
    "print(len(List_of_names))"
   ]
  },
  {
   "cell_type": "code",
   "execution_count": 17,
   "id": "1eac7531",
   "metadata": {},
   "outputs": [
    {
     "name": "stdout",
     "output_type": "stream",
     "text": [
      "0\n"
     ]
    }
   ],
   "source": [
    "print(len([]))"
   ]
  },
  {
   "cell_type": "code",
   "execution_count": 18,
   "id": "ba25b901",
   "metadata": {},
   "outputs": [
    {
     "name": "stdout",
     "output_type": "stream",
     "text": [
      "2\n"
     ]
    }
   ],
   "source": [
    "print(len([0, [1,[2]]]))"
   ]
  },
  {
   "cell_type": "code",
   "execution_count": 19,
   "id": "67884fa0",
   "metadata": {},
   "outputs": [
    {
     "name": "stdout",
     "output_type": "stream",
     "text": [
      "3\n"
     ]
    }
   ],
   "source": [
    "print(len(List_of_names))"
   ]
  },
  {
   "cell_type": "markdown",
   "id": "bedd3e2f",
   "metadata": {},
   "source": [
    "# others list oprators\n",
    "\n",
    "\n",
    "\n",
    "# sort() , revers(), extend(), pop(), remove(), insert()"
   ]
  },
  {
   "cell_type": "code",
   "execution_count": 20,
   "id": "25d4ac10",
   "metadata": {},
   "outputs": [
    {
     "name": "stdout",
     "output_type": "stream",
     "text": [
      "['Sara', 'Dave', 'John']\n"
     ]
    }
   ],
   "source": [
    "print(List_of_names)"
   ]
  },
  {
   "cell_type": "code",
   "execution_count": 21,
   "id": "e439d405",
   "metadata": {},
   "outputs": [
    {
     "name": "stdout",
     "output_type": "stream",
     "text": [
      "['Dave', 'John', 'Sara']\n"
     ]
    }
   ],
   "source": [
    "List_of_names.sort()\n",
    "print(List_of_names)"
   ]
  },
  {
   "cell_type": "code",
   "execution_count": 22,
   "id": "b849e5a5",
   "metadata": {},
   "outputs": [
    {
     "name": "stdout",
     "output_type": "stream",
     "text": [
      "['Sara', 'John', 'Dave']\n"
     ]
    }
   ],
   "source": [
    "List_of_names.reverse()\n",
    "print(List_of_names)"
   ]
  },
  {
   "cell_type": "code",
   "execution_count": 23,
   "id": "f2ccbbfb",
   "metadata": {},
   "outputs": [
    {
     "name": "stdout",
     "output_type": "stream",
     "text": [
      "Help on built-in function pop:\n",
      "\n",
      "pop(index=-1, /) method of builtins.list instance\n",
      "    Remove and return item at index (default last).\n",
      "    \n",
      "    Raises IndexError if list is empty or index is out of range.\n",
      "\n"
     ]
    }
   ],
   "source": [
    "help(List_of_names.pop)"
   ]
  },
  {
   "cell_type": "code",
   "execution_count": 24,
   "id": "ef73f255",
   "metadata": {},
   "outputs": [
    {
     "data": {
      "text/plain": [
       "'Dave'"
      ]
     },
     "execution_count": 24,
     "metadata": {},
     "output_type": "execute_result"
    }
   ],
   "source": [
    "List_of_names.pop()"
   ]
  },
  {
   "cell_type": "code",
   "execution_count": 25,
   "id": "96b83e6a",
   "metadata": {},
   "outputs": [
    {
     "name": "stdout",
     "output_type": "stream",
     "text": [
      "['Sara', 'John']\n"
     ]
    }
   ],
   "source": [
    "print(List_of_names)"
   ]
  },
  {
   "cell_type": "code",
   "execution_count": 26,
   "id": "f27d792f",
   "metadata": {},
   "outputs": [
    {
     "data": {
      "text/plain": [
       "'Sara'"
      ]
     },
     "execution_count": 26,
     "metadata": {},
     "output_type": "execute_result"
    }
   ],
   "source": [
    "List_of_names.pop(0)"
   ]
  },
  {
   "cell_type": "code",
   "execution_count": 27,
   "id": "b7480195",
   "metadata": {},
   "outputs": [
    {
     "name": "stdout",
     "output_type": "stream",
     "text": [
      "['John']\n"
     ]
    }
   ],
   "source": [
    "print(List_of_names)"
   ]
  },
  {
   "cell_type": "markdown",
   "id": "48e51be1",
   "metadata": {},
   "source": [
    "# Loop for the list"
   ]
  },
  {
   "cell_type": "code",
   "execution_count": 28,
   "id": "0ec941ed",
   "metadata": {},
   "outputs": [],
   "source": [
    "my_List = [2, 8, 6, 1, 4, 9]"
   ]
  },
  {
   "cell_type": "code",
   "execution_count": 29,
   "id": "3fc07d94",
   "metadata": {},
   "outputs": [
    {
     "name": "stdout",
     "output_type": "stream",
     "text": [
      "2\n",
      "8\n",
      "6\n",
      "1\n",
      "4\n",
      "9\n"
     ]
    }
   ],
   "source": [
    "i = 0\n",
    "while  i < len(my_List):\n",
    "    print(my_List[i])\n",
    "    i = i + 1"
   ]
  },
  {
   "cell_type": "markdown",
   "id": "4f09c93c",
   "metadata": {},
   "source": [
    "# for Loops"
   ]
  },
  {
   "cell_type": "code",
   "execution_count": 30,
   "id": "9bb41e45",
   "metadata": {},
   "outputs": [
    {
     "name": "stdout",
     "output_type": "stream",
     "text": [
      "2\n",
      "8\n",
      "6\n",
      "1\n",
      "4\n",
      "9\n"
     ]
    }
   ],
   "source": [
    "for number in my_List:\n",
    "    print(number)"
   ]
  },
  {
   "cell_type": "code",
   "execution_count": 31,
   "id": "6af8aa4a",
   "metadata": {},
   "outputs": [],
   "source": [
    "def print_List(l):\n",
    "    for e in l :\n",
    "        print(e)"
   ]
  },
  {
   "cell_type": "code",
   "execution_count": 32,
   "id": "75b4c509",
   "metadata": {},
   "outputs": [
    {
     "name": "stdout",
     "output_type": "stream",
     "text": [
      "2\n",
      "8\n",
      "6\n",
      "1\n",
      "4\n",
      "9\n"
     ]
    }
   ],
   "source": [
    "print_List(my_List)"
   ]
  },
  {
   "cell_type": "code",
   "execution_count": 33,
   "id": "a3f1786e",
   "metadata": {},
   "outputs": [
    {
     "name": "stdout",
     "output_type": "stream",
     "text": [
      "2\n",
      "8\n",
      "6\n",
      "1\n",
      "4\n",
      "9\n"
     ]
    }
   ],
   "source": [
    "my_list = [1, 2,[3, 4]]\n",
    "print_List(my_List)"
   ]
  },
  {
   "cell_type": "code",
   "execution_count": 34,
   "id": "9181a9e7",
   "metadata": {},
   "outputs": [],
   "source": [
    "def sum_List(l):\n",
    "    total = 0\n",
    "    for number in l:\n",
    "        total +=number\n",
    "    return total"
   ]
  },
  {
   "cell_type": "code",
   "execution_count": 35,
   "id": "63d4fd3d",
   "metadata": {},
   "outputs": [
    {
     "name": "stdout",
     "output_type": "stream",
     "text": [
      "15\n"
     ]
    }
   ],
   "source": [
    "print (sum_List([1, 2, 3, 4, 5]))"
   ]
  },
  {
   "cell_type": "code",
   "execution_count": 36,
   "id": "6bd50892",
   "metadata": {},
   "outputs": [
    {
     "name": "stdout",
     "output_type": "stream",
     "text": [
      "0\n"
     ]
    }
   ],
   "source": [
    "print(sum_List([]))"
   ]
  },
  {
   "cell_type": "code",
   "execution_count": 37,
   "id": "3ffaa189",
   "metadata": {},
   "outputs": [],
   "source": [
    "def count_number_of_Us(l):\n",
    "    count = 0\n",
    "    for name in l:\n",
    "        if name.startswith('U'):\n",
    "            count +=1\n",
    "        return count"
   ]
  },
  {
   "cell_type": "code",
   "execution_count": 38,
   "id": "6362037a",
   "metadata": {},
   "outputs": [
    {
     "name": "stdout",
     "output_type": "stream",
     "text": [
      "0\n"
     ]
    }
   ],
   "source": [
    "print (count_number_of_Us(['Dave','Katy', 'Jhon']))"
   ]
  },
  {
   "cell_type": "code",
   "execution_count": 39,
   "id": "37bd2972",
   "metadata": {},
   "outputs": [
    {
     "name": "stdout",
     "output_type": "stream",
     "text": [
      "1\n"
     ]
    }
   ],
   "source": [
    "print(count_number_of_Us(['Umika', 'Umberto']))"
   ]
  },
  {
   "cell_type": "code",
   "execution_count": 40,
   "id": "e7e0a80d",
   "metadata": {},
   "outputs": [],
   "source": [
    "def finde_element(l, x):\n",
    "    i = 0\n",
    "    while i < len(l):\n",
    "        if l [i] == x:\n",
    "             return i\n",
    "        i += 1\n",
    "    return -1\n"
   ]
  },
  {
   "cell_type": "code",
   "execution_count": 41,
   "id": "e310b283",
   "metadata": {},
   "outputs": [
    {
     "name": "stdout",
     "output_type": "stream",
     "text": [
      "2\n"
     ]
    }
   ],
   "source": [
    "print(finde_element([1, 2, 3, 4 , 3, 1], 3))"
   ]
  },
  {
   "cell_type": "code",
   "execution_count": 42,
   "id": "eec9739b",
   "metadata": {},
   "outputs": [
    {
     "name": "stdout",
     "output_type": "stream",
     "text": [
      "-1\n"
     ]
    }
   ],
   "source": [
    "print(finde_element(['alpha', 'beta'],'sigma'))"
   ]
  },
  {
   "cell_type": "code",
   "execution_count": 43,
   "id": "cf372ce6",
   "metadata": {},
   "outputs": [],
   "source": [
    "def finde_element(l, x):\n",
    "    i = 0\n",
    "    for e in l:\n",
    "        if e == x :\n",
    "            return i\n",
    "        i += 1\n",
    "    return -1"
   ]
  },
  {
   "cell_type": "code",
   "execution_count": 44,
   "id": "ccc7fd98",
   "metadata": {},
   "outputs": [
    {
     "name": "stdout",
     "output_type": "stream",
     "text": [
      "2\n"
     ]
    }
   ],
   "source": [
    "print(finde_element([1, 2, 3, 4 , 3, 1], 3))"
   ]
  },
  {
   "cell_type": "markdown",
   "id": "7c316ac0",
   "metadata": {},
   "source": [
    "# index()  method"
   ]
  },
  {
   "cell_type": "code",
   "execution_count": 45,
   "id": "631df7bc",
   "metadata": {},
   "outputs": [
    {
     "name": "stdout",
     "output_type": "stream",
     "text": [
      "2\n"
     ]
    }
   ],
   "source": [
    "l = [0, 1, 2]\n",
    "print(l.index(2))"
   ]
  },
  {
   "cell_type": "code",
   "execution_count": 46,
   "id": "aa4bb3b7",
   "metadata": {},
   "outputs": [
    {
     "name": "stdout",
     "output_type": "stream",
     "text": [
      "2\n"
     ]
    }
   ],
   "source": [
    "l = [0, 1, 2, 2, 2, 2, 2]\n",
    "print(l.index(2))"
   ]
  },
  {
   "cell_type": "code",
   "execution_count": 47,
   "id": "692ba5b4",
   "metadata": {},
   "outputs": [],
   "source": [
    "# l = [0 ,1, 2]\n",
    "# print(l.index(3))"
   ]
  },
  {
   "cell_type": "code",
   "execution_count": 48,
   "id": "47b434fa",
   "metadata": {},
   "outputs": [
    {
     "name": "stdout",
     "output_type": "stream",
     "text": [
      "True\n",
      "False\n"
     ]
    }
   ],
   "source": [
    "l = [0, 1, 2]\n",
    "print(2 in l)\n",
    "print(3 in l)"
   ]
  },
  {
   "cell_type": "code",
   "execution_count": 49,
   "id": "535c22d9",
   "metadata": {},
   "outputs": [
    {
     "name": "stdout",
     "output_type": "stream",
     "text": [
      "False\n",
      "True\n"
     ]
    }
   ],
   "source": [
    "print(2 not in l)\n",
    "print(3 not in l)"
   ]
  },
  {
   "cell_type": "code",
   "execution_count": 50,
   "id": "c3d0020b",
   "metadata": {},
   "outputs": [
    {
     "name": "stdout",
     "output_type": "stream",
     "text": [
      "True\n",
      "False\n"
     ]
    }
   ],
   "source": [
    "l = [0, 1, 2]\n",
    "print(2 in l)\n",
    "print(3 in l)"
   ]
  },
  {
   "cell_type": "code",
   "execution_count": 51,
   "id": "462f08ce",
   "metadata": {},
   "outputs": [],
   "source": [
    "def finde_element(l, x):\n",
    "    if x in l:\n",
    "        return l.index(x)\n",
    "    return -1"
   ]
  },
  {
   "cell_type": "code",
   "execution_count": 52,
   "id": "c8cc3a14",
   "metadata": {},
   "outputs": [
    {
     "name": "stdout",
     "output_type": "stream",
     "text": [
      "2\n"
     ]
    }
   ],
   "source": [
    "print(finde_element([1, 2, 3, 4 , 3, 1], 3))"
   ]
  },
  {
   "cell_type": "markdown",
   "id": "de658a8a",
   "metadata": {},
   "source": [
    "# The union function is a function in\n",
    "\n",
    "# which we can associate a dualist, but \n",
    "\n",
    "# the duplicate function\n",
    "\n",
    "# is eliminated."
   ]
  },
  {
   "cell_type": "code",
   "execution_count": 53,
   "id": "8fb03f14",
   "metadata": {},
   "outputs": [],
   "source": [
    "def union(l2, l3):\n",
    "    for e in l2:\n",
    "        if e not in l2:\n",
    "            l2.append(e)\n",
    "    return l2"
   ]
  },
  {
   "cell_type": "code",
   "execution_count": 54,
   "id": "153bb9b5",
   "metadata": {},
   "outputs": [
    {
     "name": "stdout",
     "output_type": "stream",
     "text": [
      "[2, 4, 5, 8]\n"
     ]
    }
   ],
   "source": [
    "print(union([2, 4, 5, 8],[7, 6 ,8, 9]))"
   ]
  },
  {
   "cell_type": "markdown",
   "id": "667a96f9",
   "metadata": {},
   "source": [
    "# Crawler\n",
    "# collcting links in a list"
   ]
  },
  {
   "cell_type": "code",
   "execution_count": 55,
   "id": "c4a2f1ae",
   "metadata": {},
   "outputs": [],
   "source": [
    "def get_next_target(content):\n",
    "    start_link = content.find('< a herf=')\n",
    "    if start_link == -1:\n",
    "        return None, 0\n",
    "    start_quote = content.find( '\"', start_link)\n",
    "    end_quote =  content.find('\"',start_quote + 1)\n",
    "    url = content[start_quote + 1 :end_quote]\n",
    "    return url, end_quote"
   ]
  },
  {
   "cell_type": "code",
   "execution_count": 56,
   "id": "27efebb8",
   "metadata": {},
   "outputs": [],
   "source": [
    "content = \"\"\"\n",
    "<html>\n",
    "   <head>\n",
    "      <title>HTML Floating Image</title>\n",
    "   </head>\n",
    "\n",
    "<body>\n",
    "   <h1>Float Right</h1>\n",
    "   <p>The below image floats to the right.</p>\n",
    "   <p>\n",
    "      <img src=\"https://www.tutorialspoint.com/green/images/logo.png\" style=\"float:right\" width=\"190\" height=\"84\" />\n",
    "      This is demo text. This is demo text.\n",
    "      This is demo text. This is demo text.\n",
    "      This is demo text. This is demo text.\n",
    "      This is demo text. This is demo text.\n",
    "      This is demo text. This is demo text.\n",
    "      This is demo text. This is demo text.\n",
    "      This is demo text. This is demo text.\n",
    "      This is demo text. This is demo text.\n",
    "   </p>\n",
    "   <h1>Float Left</h1>\n",
    "      <p>The below image floats to the left.</p>\n",
    "      <p>\n",
    "         <img src=\"https://www.tutorialspoint.com/green/images/logo.png\" style=\"float:left\" width=\"190\" height=\"84\" />\n",
    "         This is demo text. This is demo text.\n",
    "         This is demo text. This is demo text.\n",
    "         This is demo text. This is demo text.\n",
    "         This is demo text. This is demo text.\n",
    "         This is demo text. This is demo text.\n",
    "         This is demo text. This is demo text.\n",
    "         This is demo text. This is demo text.\n",
    "         This is demo text. This is demo text.\n",
    "      </p>\n",
    "   </body>\n",
    "</html>\n",
    "\n",
    "<html>\n",
    "   <head>\n",
    "      <title>HTML Title Tag</title>\n",
    "   </head>\n",
    "\n",
    "   <body>\n",
    "      <p>The content of the documents gets added here.</p>\n",
    "   </body>\n",
    "</html>\n",
    "\n",
    " <img src=\"https://www.tutorialspoint.com/green/images/logo.png\"\n",
    "\"\"\""
   ]
  },
  {
   "cell_type": "code",
   "execution_count": 57,
   "id": "e4ca6fe1",
   "metadata": {},
   "outputs": [
    {
     "name": "stdout",
     "output_type": "stream",
     "text": [
      "None\n",
      "0\n"
     ]
    }
   ],
   "source": [
    "url, end_quote=get_next_target(content)\n",
    "print (url)\n",
    "print(end_quote)"
   ]
  },
  {
   "cell_type": "code",
   "execution_count": 58,
   "id": "a5f28ea6",
   "metadata": {},
   "outputs": [
    {
     "name": "stdout",
     "output_type": "stream",
     "text": [
      "\n",
      "<html>\n",
      "   <head>\n",
      "      <title>HTML Floating Image</title>\n",
      "   </head>\n",
      "\n",
      "<body>\n",
      "   <h1>Float Right</h1>\n",
      "   <p>The below image floats to the right.</p>\n",
      "   <p>\n",
      "      <img src=\"https://www.tutorialspoint.com/green/images/logo.png\" style=\"float:right\" width=\"190\" height=\"84\" />\n",
      "      This is demo text. This is demo text.\n",
      "      This is demo text. This is demo text.\n",
      "      This is demo text. This is demo text.\n",
      "      This is demo text. This is demo text.\n",
      "      This is demo text. This is demo text.\n",
      "      This is demo text. This is demo text.\n",
      "      This is demo text. This is demo text.\n",
      "      This is demo text. This is demo text.\n",
      "   </p>\n",
      "   <h1>Float Left</h1>\n",
      "      <p>The below image floats to the left.</p>\n",
      "      <p>\n",
      "         <img src=\"https://www.tutorialspoint.com/green/images/logo.png\" style=\"float:left\" width=\"190\" height=\"84\" />\n",
      "         This is demo text. This is demo text.\n",
      "         This is demo text. This is demo text.\n",
      "         This is demo text. This is demo text.\n",
      "         This is demo text. This is demo text.\n",
      "         This is demo text. This is demo text.\n",
      "         This is demo text. This is demo text.\n",
      "         This is demo text. This is demo text.\n",
      "         This is demo text. This is demo text.\n",
      "      </p>\n",
      "   </body>\n",
      "</html>\n",
      "\n",
      "<html>\n",
      "   <head>\n",
      "      <title>HTML Title Tag</title>\n",
      "   </head>\n",
      "\n",
      "   <body>\n",
      "      <p>The content of the documents gets added here.</p>\n",
      "   </body>\n",
      "</html>\n",
      "\n",
      " <img src=\"https://www.tutorialspoint.com/green/images/logo.png\"\n",
      "\n"
     ]
    }
   ],
   "source": [
    "content = content[end_quote:]\n",
    "print(content)"
   ]
  },
  {
   "cell_type": "code",
   "execution_count": 59,
   "id": "74058aa3",
   "metadata": {},
   "outputs": [
    {
     "name": "stdout",
     "output_type": "stream",
     "text": [
      "None\n",
      "0\n"
     ]
    }
   ],
   "source": [
    "url, end_quote = get_next_target(content)\n",
    "print (url)\n",
    "print(end_quote)"
   ]
  },
  {
   "cell_type": "code",
   "execution_count": 60,
   "id": "7f1da906",
   "metadata": {},
   "outputs": [],
   "source": [
    "def print_all_links(content):\n",
    "    while True:\n",
    "        url, end_quote = get_next_target(content)\n",
    "        if url:\n",
    "            print(url)\n",
    "            content =content[end_quote:]\n",
    "        else:\n",
    "             break"
   ]
  },
  {
   "cell_type": "code",
   "execution_count": 61,
   "id": "3c7a263a",
   "metadata": {},
   "outputs": [],
   "source": [
    "content =\"\"\"\n",
    "<html>\n",
    "https://pbfcomics.com/\n",
    " \n",
    "<html>\n",
    "   <head>\n",
    "      <title>HTML Floating Image</title>\n",
    "   </head>\n",
    "\n",
    "<body>\n",
    "   <h1>Float Right</h1>\n",
    "   <p>The below image floats to the right.</p>\n",
    "   <p>\n",
    "      <img src=\"http://threewordphrase.com/\" \n",
    "    \"\"\"\n",
    "\n",
    "\n"
   ]
  },
  {
   "cell_type": "code",
   "execution_count": 62,
   "id": "1af1bda7",
   "metadata": {},
   "outputs": [],
   "source": [
    "print_all_links(content)"
   ]
  },
  {
   "cell_type": "code",
   "execution_count": 63,
   "id": "8c0790b4",
   "metadata": {},
   "outputs": [],
   "source": [
    "def get_all_links(content):\n",
    "    '''\n",
    "    Takes  the content of a web\n",
    "    page and returns all off ist link in a list.\n",
    "    '''\n",
    "    links = []\n",
    "\n",
    "    while True :\n",
    "        url , end_quote = get_next_target(content)\n",
    "        if url :\n",
    "            links.append(url)\n",
    "            content = content[end_quote:]\n",
    "        else: \n",
    "            break\n",
    "    return links\n"
   ]
  },
  {
   "cell_type": "code",
   "execution_count": 64,
   "id": "a0b6e08a",
   "metadata": {},
   "outputs": [],
   "source": [
    "content=\"\"\"\n",
    "<html>\n",
    "      <head>\n",
    "         <title>My Home Page\n",
    "         </title>\n",
    "         <head>\n",
    "         <body>\n",
    "      Please click <a href = \"http://www.site.com/first\">here </a> to go to\n",
    "      Please click <a href = \"http://www.site.com/second\">here </a> to go to\n",
    "       <body>\n",
    "<html>\n",
    "\"\"\""
   ]
  },
  {
   "cell_type": "code",
   "execution_count": 65,
   "id": "eebe9a61",
   "metadata": {},
   "outputs": [
    {
     "name": "stdout",
     "output_type": "stream",
     "text": [
      "[]\n"
     ]
    }
   ],
   "source": [
    "links =get_all_links(content)\n",
    "print(links)"
   ]
  },
  {
   "cell_type": "code",
   "execution_count": 66,
   "id": "48556ee4",
   "metadata": {},
   "outputs": [],
   "source": [
    "def get_Page_content(url):\n",
    "    import urllib\n",
    "    content = urllib.urlopen(url).read()\n",
    "    return content"
   ]
  },
  {
   "cell_type": "code",
   "execution_count": 67,
   "id": "2fb4b4a0",
   "metadata": {},
   "outputs": [
    {
     "ename": "AttributeError",
     "evalue": "module 'urllib' has no attribute 'urlopen'",
     "output_type": "error",
     "traceback": [
      "\u001b[1;31m---------------------------------------------------------------------------\u001b[0m",
      "\u001b[1;31mAttributeError\u001b[0m                            Traceback (most recent call last)",
      "\u001b[1;32m<ipython-input-67-ad1196191a5a>\u001b[0m in \u001b[0;36m<module>\u001b[1;34m\u001b[0m\n\u001b[1;32m----> 1\u001b[1;33m \u001b[0mlinks\u001b[0m\u001b[1;33m=\u001b[0m\u001b[0mget_all_links\u001b[0m\u001b[1;33m(\u001b[0m\u001b[0mget_Page_content\u001b[0m\u001b[1;33m(\u001b[0m\u001b[1;34m\"https://xkcd.com/353/\"\u001b[0m\u001b[1;33m)\u001b[0m\u001b[1;33m)\u001b[0m\u001b[1;33m\u001b[0m\u001b[1;33m\u001b[0m\u001b[0m\n\u001b[0m\u001b[0;32m      2\u001b[0m \u001b[0mprint\u001b[0m\u001b[1;33m(\u001b[0m\u001b[0mlinks\u001b[0m\u001b[1;33m)\u001b[0m\u001b[1;33m\u001b[0m\u001b[1;33m\u001b[0m\u001b[0m\n",
      "\u001b[1;32m<ipython-input-66-1c4025a639ec>\u001b[0m in \u001b[0;36mget_Page_content\u001b[1;34m(url)\u001b[0m\n\u001b[0;32m      1\u001b[0m \u001b[1;32mdef\u001b[0m \u001b[0mget_Page_content\u001b[0m\u001b[1;33m(\u001b[0m\u001b[0murl\u001b[0m\u001b[1;33m)\u001b[0m\u001b[1;33m:\u001b[0m\u001b[1;33m\u001b[0m\u001b[1;33m\u001b[0m\u001b[0m\n\u001b[0;32m      2\u001b[0m     \u001b[1;32mimport\u001b[0m \u001b[0murllib\u001b[0m\u001b[1;33m\u001b[0m\u001b[1;33m\u001b[0m\u001b[0m\n\u001b[1;32m----> 3\u001b[1;33m     \u001b[0mcontent\u001b[0m \u001b[1;33m=\u001b[0m \u001b[0murllib\u001b[0m\u001b[1;33m.\u001b[0m\u001b[0murlopen\u001b[0m\u001b[1;33m(\u001b[0m\u001b[0murl\u001b[0m\u001b[1;33m)\u001b[0m\u001b[1;33m.\u001b[0m\u001b[0mread\u001b[0m\u001b[1;33m(\u001b[0m\u001b[1;33m)\u001b[0m\u001b[1;33m\u001b[0m\u001b[1;33m\u001b[0m\u001b[0m\n\u001b[0m\u001b[0;32m      4\u001b[0m     \u001b[1;32mreturn\u001b[0m \u001b[0mcontent\u001b[0m\u001b[1;33m\u001b[0m\u001b[1;33m\u001b[0m\u001b[0m\n",
      "\u001b[1;31mAttributeError\u001b[0m: module 'urllib' has no attribute 'urlopen'"
     ]
    }
   ],
   "source": [
    "links=get_all_links(get_Page_content(\"https://xkcd.com/353/\"))\n",
    "print(links)"
   ]
  },
  {
   "cell_type": "code",
   "execution_count": null,
   "id": "c4e566ed",
   "metadata": {},
   "outputs": [],
   "source": []
  },
  {
   "cell_type": "code",
   "execution_count": null,
   "id": "91192f98",
   "metadata": {},
   "outputs": [],
   "source": []
  }
 ],
 "metadata": {
  "kernelspec": {
   "display_name": "Python 3 (ipykernel)",
   "language": "python",
   "name": "python3"
  },
  "language_info": {
   "codemirror_mode": {
    "name": "ipython",
    "version": 3
   },
   "file_extension": ".py",
   "mimetype": "text/x-python",
   "name": "python",
   "nbconvert_exporter": "python",
   "pygments_lexer": "ipython3",
   "version": "3.9.7"
  }
 },
 "nbformat": 4,
 "nbformat_minor": 5
}
